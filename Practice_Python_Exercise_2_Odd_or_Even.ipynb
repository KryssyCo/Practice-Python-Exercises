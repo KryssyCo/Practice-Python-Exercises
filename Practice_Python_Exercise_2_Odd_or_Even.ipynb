{
  "nbformat": 4,
  "nbformat_minor": 0,
  "metadata": {
    "colab": {
      "name": "Practice Python Exercise 2 - Odd or Even.ipynb",
      "provenance": [],
      "include_colab_link": true
    },
    "kernelspec": {
      "name": "python3",
      "display_name": "Python 3"
    },
    "language_info": {
      "name": "python"
    }
  },
  "cells": [
    {
      "cell_type": "markdown",
      "metadata": {
        "id": "view-in-github",
        "colab_type": "text"
      },
      "source": [
        "<a href=\"https://colab.research.google.com/github/KryssyCo/Practice-Python-Exercises/blob/main/Practice_Python_Exercise_2_Odd_or_Even.ipynb\" target=\"_parent\"><img src=\"https://colab.research.google.com/assets/colab-badge.svg\" alt=\"Open In Colab\"/></a>"
      ]
    },
    {
      "cell_type": "code",
      "execution_count": 2,
      "metadata": {
        "id": "CEw79-KGx0QH"
      },
      "outputs": [],
      "source": [
        "import pandas as pd\n",
        "import numpy as np\n",
        "import matplotlib.pyplot as plt"
      ]
    },
    {
      "cell_type": "code",
      "source": [
        "num = input(\"Enter a number: \")\n",
        "mod = int(num) % 2\n",
        "mod2 = int(num) % 4\n",
        "if mod > 0:\n",
        "    print(\"You picked a number divisible by 2.\")\n",
        "elif mod2 > 0:\n",
        "    print(\"You picked a number divisible by 4.\")\n",
        "else: \n",
        "  print(\" Sorry, that number is not divisible by 2 or 4\")"
      ],
      "metadata": {
        "colab": {
          "base_uri": "https://localhost:8080/"
        },
        "id": "RU6YIHJizKBW",
        "outputId": "1423598f-e5c6-40e8-c834-8117373245ad"
      },
      "execution_count": 3,
      "outputs": [
        {
          "output_type": "stream",
          "name": "stdout",
          "text": [
            "Enter a number: 10\n",
            "You picked a number divisible by 4.\n"
          ]
        }
      ]
    },
    {
      "cell_type": "code",
      "source": [
        "num = int(input(\"Give me a number to check: \"))\n",
        "check = int(input(\"Give me a number to divide by: \"))\n",
        "\n",
        "if num % 4 == 0:\n",
        "    print(num, \"is a multiple of 4\")\n",
        "elif num % 2 == 0:\n",
        "    print(num, \"is an even number\")\n",
        "else:\n",
        "    print(num, \"is an odd number\")\n",
        "\n",
        "if num % check == 0:\n",
        "    print(num, \"divides evenly by\", check)\n",
        "else:\n",
        "    print(num, \"does not divide evenly by\", check)"
      ],
      "metadata": {
        "colab": {
          "base_uri": "https://localhost:8080/"
        },
        "id": "oeq-0dsIznlX",
        "outputId": "6ad3b9ec-fdec-4dec-e544-0122fa229f06"
      },
      "execution_count": 4,
      "outputs": [
        {
          "output_type": "stream",
          "name": "stdout",
          "text": [
            "Give me a number to check: 10\n",
            "Give me a number to divide by: 3\n",
            "10 is an even number\n",
            "10 does not divide evenly by 3\n"
          ]
        }
      ]
    }
  ]
}